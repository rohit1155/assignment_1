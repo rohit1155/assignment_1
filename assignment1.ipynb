{
 "cells": [
  {
   "cell_type": "raw",
   "id": "28de7762-9406-4a85-bdec-ce044a945fb8",
   "metadata": {},
   "source": [
    "Q1. Create one variable containing following type of data:\n",
    "\n",
    "(i)\tstring\n",
    "\n",
    "(ii)\tlist\n",
    "\n",
    "(iii)\tfloat\n",
    "\n",
    "(iv)\ttupl\n"
   ]
  },
  {
   "cell_type": "code",
   "execution_count": 9,
   "id": "df005702-5f68-4e97-ab36-f956bce74ebb",
   "metadata": {},
   "outputs": [],
   "source": [
    "t =(\"rohit\" , [1,2,3,4,\"kumar\"],24.56,(1,2,3,4.5),24.56 )"
   ]
  },
  {
   "cell_type": "code",
   "execution_count": 10,
   "id": "7721f1da-d135-47a1-81e8-2ecc7ca1b8c1",
   "metadata": {},
   "outputs": [
    {
     "data": {
      "text/plain": [
       "('rohit', [1, 2, 3, 4, 'kumar'], 24.56, (1, 2, 3, 4.5), 24.56)"
      ]
     },
     "execution_count": 10,
     "metadata": {},
     "output_type": "execute_result"
    }
   ],
   "source": [
    "t"
   ]
  },
  {
   "cell_type": "code",
   "execution_count": 1,
   "id": "54ffcf6f-a15f-4028-ab05-7cca6bb779f6",
   "metadata": {},
   "outputs": [],
   "source": [
    "str=\"rohit\""
   ]
  },
  {
   "cell_type": "code",
   "execution_count": 2,
   "id": "274b000f-c3de-48ba-8403-6c9747cf40be",
   "metadata": {},
   "outputs": [
    {
     "data": {
      "text/plain": [
       "str"
      ]
     },
     "execution_count": 2,
     "metadata": {},
     "output_type": "execute_result"
    }
   ],
   "source": [
    "type(str)"
   ]
  },
  {
   "cell_type": "code",
   "execution_count": 3,
   "id": "de2adc39-3b0c-45de-85ea-c32af7f56940",
   "metadata": {},
   "outputs": [],
   "source": [
    "list=[1,2,3,4,\"kumar\"]"
   ]
  },
  {
   "cell_type": "code",
   "execution_count": 4,
   "id": "cfaa84f6-ccf7-4e32-a92f-d9c113f1547b",
   "metadata": {},
   "outputs": [
    {
     "data": {
      "text/plain": [
       "list"
      ]
     },
     "execution_count": 4,
     "metadata": {},
     "output_type": "execute_result"
    }
   ],
   "source": [
    "type(list)"
   ]
  },
  {
   "cell_type": "code",
   "execution_count": 5,
   "id": "098f4d33-36f0-4d78-bd61-719a27d93c99",
   "metadata": {},
   "outputs": [],
   "source": [
    "float=24.56"
   ]
  },
  {
   "cell_type": "code",
   "execution_count": 6,
   "id": "bf67aec0-dfee-462f-a09f-107408621e11",
   "metadata": {},
   "outputs": [
    {
     "data": {
      "text/plain": [
       "float"
      ]
     },
     "execution_count": 6,
     "metadata": {},
     "output_type": "execute_result"
    }
   ],
   "source": [
    "type(float)"
   ]
  },
  {
   "cell_type": "code",
   "execution_count": 7,
   "id": "3c6d88b9-b241-456d-8cf8-26ce02107815",
   "metadata": {},
   "outputs": [],
   "source": [
    "tuple=(1,2,3,4.5)"
   ]
  },
  {
   "cell_type": "code",
   "execution_count": 8,
   "id": "7ca004cc-d77b-497e-8103-5e45ab0f5cfe",
   "metadata": {},
   "outputs": [
    {
     "data": {
      "text/plain": [
       "tuple"
      ]
     },
     "execution_count": 8,
     "metadata": {},
     "output_type": "execute_result"
    }
   ],
   "source": [
    "type(tuple)"
   ]
  },
  {
   "cell_type": "raw",
   "id": "bb872d09-7010-4d80-8047-e9485cafd6b5",
   "metadata": {},
   "source": [
    "Q2. Given are some following variables containing data:\n",
    "\n",
    "(i)\tvar1 = ‘ ‘\n",
    "\n",
    "(ii)\tvar2 = ‘[ DS , ML , Python]’\n",
    "\n",
    "(iii)\tvar3 = [ ‘DS’ , ’ML’ , ‘Python’ ]\n",
    "\n",
    "(iv)\tvar4 = 1.\n",
    "\n",
    "\n",
    "What will be the data type of the above given variable\n"
   ]
  },
  {
   "cell_type": "code",
   "execution_count": 11,
   "id": "a58854b1-aede-4444-ae8e-5de7cd567229",
   "metadata": {},
   "outputs": [],
   "source": [
    "var1=''"
   ]
  },
  {
   "cell_type": "code",
   "execution_count": 3,
   "id": "4f1790cc-497d-46c9-922a-12e4240432a6",
   "metadata": {},
   "outputs": [
    {
     "data": {
      "text/plain": [
       "''"
      ]
     },
     "execution_count": 3,
     "metadata": {},
     "output_type": "execute_result"
    }
   ],
   "source": [
    "var1"
   ]
  },
  {
   "cell_type": "code",
   "execution_count": 4,
   "id": "a9534881-281d-4bc2-b724-aa4e59e29815",
   "metadata": {},
   "outputs": [
    {
     "data": {
      "text/plain": [
       "str"
      ]
     },
     "execution_count": 4,
     "metadata": {},
     "output_type": "execute_result"
    }
   ],
   "source": [
    "type(var1)"
   ]
  },
  {
   "cell_type": "code",
   "execution_count": 6,
   "id": "48ba93c2-cb63-4c47-879d-96cd1f696d0c",
   "metadata": {},
   "outputs": [],
   "source": [
    "var2 = '[ DS , ML , Python]'"
   ]
  },
  {
   "cell_type": "code",
   "execution_count": 7,
   "id": "f15c9a6c-8d6a-404d-a7c9-c5ef113bde90",
   "metadata": {},
   "outputs": [
    {
     "data": {
      "text/plain": [
       "'[ DS , ML , Python]'"
      ]
     },
     "execution_count": 7,
     "metadata": {},
     "output_type": "execute_result"
    }
   ],
   "source": [
    "var2"
   ]
  },
  {
   "cell_type": "code",
   "execution_count": 8,
   "id": "2aaa6725-da88-473e-b812-a62c9fe8bbda",
   "metadata": {},
   "outputs": [
    {
     "data": {
      "text/plain": [
       "str"
      ]
     },
     "execution_count": 8,
     "metadata": {},
     "output_type": "execute_result"
    }
   ],
   "source": [
    "type(var2)"
   ]
  },
  {
   "cell_type": "code",
   "execution_count": 9,
   "id": "f28534e4-c803-4223-92b5-fca2db08f7c0",
   "metadata": {},
   "outputs": [],
   "source": [
    "var3 = [ 'DS' , 'ML' , 'Python' ]"
   ]
  },
  {
   "cell_type": "code",
   "execution_count": 10,
   "id": "b23c7706-d10c-4dc5-a2d8-c585552925e9",
   "metadata": {},
   "outputs": [
    {
     "data": {
      "text/plain": [
       "['DS', 'ML', 'Python']"
      ]
     },
     "execution_count": 10,
     "metadata": {},
     "output_type": "execute_result"
    }
   ],
   "source": [
    "var3"
   ]
  },
  {
   "cell_type": "code",
   "execution_count": 11,
   "id": "75396528-80ea-4d75-ba78-af9437fe8e49",
   "metadata": {},
   "outputs": [
    {
     "data": {
      "text/plain": [
       "list"
      ]
     },
     "execution_count": 11,
     "metadata": {},
     "output_type": "execute_result"
    }
   ],
   "source": [
    "type(var3)"
   ]
  },
  {
   "cell_type": "code",
   "execution_count": 12,
   "id": "f818bafb-0cc5-4e33-9b2f-99940c2426ef",
   "metadata": {},
   "outputs": [],
   "source": [
    "var4=1  "
   ]
  },
  {
   "cell_type": "code",
   "execution_count": 13,
   "id": "4df7a638-d4ee-4a58-ae6b-421c4a4c51a1",
   "metadata": {},
   "outputs": [
    {
     "data": {
      "text/plain": [
       "1"
      ]
     },
     "execution_count": 13,
     "metadata": {},
     "output_type": "execute_result"
    }
   ],
   "source": [
    "var4"
   ]
  },
  {
   "cell_type": "code",
   "execution_count": 14,
   "id": "b37131a4-bf1e-42f7-85ce-00d609e04c4d",
   "metadata": {},
   "outputs": [
    {
     "data": {
      "text/plain": [
       "int"
      ]
     },
     "execution_count": 14,
     "metadata": {},
     "output_type": "execute_result"
    }
   ],
   "source": [
    "type(var4)"
   ]
  },
  {
   "cell_type": "raw",
   "id": "e932d4cd-15af-4f42-9458-cda4fa220f4a",
   "metadata": {},
   "source": [
    "Q3. Explain the use of the following operators using an example:\n",
    "\n",
    "(i)\t/\n",
    "\n",
    "(ii)\t% \n",
    "\n",
    "(iii)\t//\n",
    "\n",
    "(iv)\t*"
   ]
  },
  {
   "cell_type": "code",
   "execution_count": 12,
   "id": "d85b34a1-83d8-4d62-8530-38282f3f8359",
   "metadata": {},
   "outputs": [],
   "source": [
    "a=10/5"
   ]
  },
  {
   "cell_type": "code",
   "execution_count": 13,
   "id": "4236a922-f278-4e47-9bc9-aac835ff896f",
   "metadata": {},
   "outputs": [
    {
     "data": {
      "text/plain": [
       "2.0"
      ]
     },
     "execution_count": 13,
     "metadata": {},
     "output_type": "execute_result"
    }
   ],
   "source": [
    "a"
   ]
  },
  {
   "cell_type": "code",
   "execution_count": 14,
   "id": "38eaa1d1-1234-4112-9a22-43bdd0602285",
   "metadata": {},
   "outputs": [],
   "source": [
    "b=8%3"
   ]
  },
  {
   "cell_type": "code",
   "execution_count": 15,
   "id": "6305888f-a401-483b-93b7-4091ac983d51",
   "metadata": {},
   "outputs": [
    {
     "data": {
      "text/plain": [
       "2"
      ]
     },
     "execution_count": 15,
     "metadata": {},
     "output_type": "execute_result"
    }
   ],
   "source": [
    "b"
   ]
  },
  {
   "cell_type": "code",
   "execution_count": 16,
   "id": "4dee8f44-f126-4a61-99f9-77e0780510cf",
   "metadata": {},
   "outputs": [],
   "source": [
    "c=3//3"
   ]
  },
  {
   "cell_type": "code",
   "execution_count": 17,
   "id": "8c04a720-9414-4ba1-9b80-7450c2bd8bb1",
   "metadata": {},
   "outputs": [
    {
     "data": {
      "text/plain": [
       "1"
      ]
     },
     "execution_count": 17,
     "metadata": {},
     "output_type": "execute_result"
    }
   ],
   "source": [
    "c"
   ]
  },
  {
   "cell_type": "code",
   "execution_count": 18,
   "id": "9ac86c4b-e429-4a9f-9b09-dc4ab0319a4c",
   "metadata": {},
   "outputs": [],
   "source": [
    "d=3**7"
   ]
  },
  {
   "cell_type": "code",
   "execution_count": 19,
   "id": "66451f81-8f2e-4201-b048-c3232a216724",
   "metadata": {},
   "outputs": [
    {
     "data": {
      "text/plain": [
       "2187"
      ]
     },
     "execution_count": 19,
     "metadata": {},
     "output_type": "execute_result"
    }
   ],
   "source": [
    "d"
   ]
  },
  {
   "cell_type": "raw",
   "id": "60ca4ace-6f5f-40d3-b25b-17c3ebdbd887",
   "metadata": {},
   "source": [
    "Q4. Create a list of length 10 of your choice containing multiple types of data. Using for loop print the \n",
    "element and its data type."
   ]
  },
  {
   "cell_type": "code",
   "execution_count": 28,
   "id": "704e1374-fcc1-4047-81fb-3001b862f795",
   "metadata": {},
   "outputs": [],
   "source": [
    "l=[1,2,3,4,\"rohit\",1,1,\"kumar\",111,5]"
   ]
  },
  {
   "cell_type": "code",
   "execution_count": 29,
   "id": "76db98c9-11a6-4da1-8cb6-1b32a7461127",
   "metadata": {},
   "outputs": [
    {
     "data": {
      "text/plain": [
       "[1, 2, 3, 4, 'rohit', 1, 1, 'kumar', 111, 5]"
      ]
     },
     "execution_count": 29,
     "metadata": {},
     "output_type": "execute_result"
    }
   ],
   "source": [
    "l"
   ]
  },
  {
   "cell_type": "code",
   "execution_count": 30,
   "id": "f4353874-b208-47a6-99b2-0bf8e4a01bcf",
   "metadata": {},
   "outputs": [
    {
     "name": "stdout",
     "output_type": "stream",
     "text": [
      "1\n",
      "2\n",
      "3\n",
      "4\n",
      "rohit\n",
      "1\n",
      "1\n",
      "kumar\n",
      "111\n",
      "5\n"
     ]
    }
   ],
   "source": [
    "l1=[]\n",
    "for i in l:\n",
    "    l1.append(i)\n",
    "    print(i)"
   ]
  },
  {
   "cell_type": "code",
   "execution_count": 33,
   "id": "ff81f11d-8d22-4170-bdf4-01928a6b782e",
   "metadata": {},
   "outputs": [],
   "source": [
    "l1_num=[]\n",
    "l2_str=[]\n",
    "for i in l:\n",
    "    if type(i) == int or type(i) == float :\n",
    "        l1_num.append(i)\n",
    "    else :\n",
    "        l2_str.append(i) \n",
    "    \n"
   ]
  },
  {
   "cell_type": "code",
   "execution_count": 34,
   "id": "fb4d13ec-3b03-4dc4-9d14-2bc5ed53a0ff",
   "metadata": {},
   "outputs": [
    {
     "data": {
      "text/plain": [
       "[1, 2, 3, 4, 1, 1, 111, 5]"
      ]
     },
     "execution_count": 34,
     "metadata": {},
     "output_type": "execute_result"
    }
   ],
   "source": [
    "l1_num"
   ]
  },
  {
   "cell_type": "code",
   "execution_count": 35,
   "id": "15aa3a50-6837-4b01-89a6-57158c21226f",
   "metadata": {},
   "outputs": [
    {
     "data": {
      "text/plain": [
       "['rohit', 'kumar']"
      ]
     },
     "execution_count": 35,
     "metadata": {},
     "output_type": "execute_result"
    }
   ],
   "source": [
    "l2_str"
   ]
  },
  {
   "cell_type": "raw",
   "id": "74c2e6e3-232f-40e3-8a1d-1d2046af4b99",
   "metadata": {},
   "source": [
    "Q4. Create a list of length 10 of your choice containing multiple types of data. Using for loop print the \n",
    "element and its data type."
   ]
  },
  {
   "cell_type": "code",
   "execution_count": 1,
   "id": "91d8390b-9280-4a55-a5f9-a84d95b3c05c",
   "metadata": {},
   "outputs": [
    {
     "name": "stdin",
     "output_type": "stream",
     "text": [
      "enter a value 8\n",
      "enter a value 5\n"
     ]
    },
    {
     "name": "stdout",
     "output_type": "stream",
     "text": [
      "not divisible\n"
     ]
    }
   ],
   "source": [
    "A=int(input(\"enter a value\"))\n",
    "B=int(input(\"enter a value\"))\n",
    "c=0\n",
    "if A/B==0:\n",
    "    while(a/b>=b and type(a/b)==int):\n",
    "        C+=1\n",
    "        A/=b\n",
    "    C\n",
    "else:\n",
    "    print(\"not divisible\")\n",
    "        \n",
    "\n",
    "\n"
   ]
  },
  {
   "cell_type": "raw",
   "id": "6eeb4cd1-13b7-4d2a-b062-28c2067b9da1",
   "metadata": {},
   "source": [
    "Q6. Create a list containing 25 int type data. Using for loop and if-else condition print if the element is \n",
    "divisible by 3 or not"
   ]
  },
  {
   "cell_type": "code",
   "execution_count": 3,
   "id": "9e9f90ab-8f68-4131-8314-1161dcc2ba73",
   "metadata": {},
   "outputs": [],
   "source": [
    "l=[1,2,3,4,5,6,7,8,9,10,11,12,13,14,15,16,17,18,19,20,21,22,23,24,25]\n",
    "l1=[]\n",
    "l2=[]\n",
    "for i in l:\n",
    "    if i%3==0:\n",
    "        l1.append(i)\n",
    "    else:\n",
    "        l2.append(i)\n",
    "            \n",
    "    \n"
   ]
  },
  {
   "cell_type": "code",
   "execution_count": 4,
   "id": "d79a47da-8140-4350-a45d-cde5a031cc0e",
   "metadata": {},
   "outputs": [
    {
     "data": {
      "text/plain": [
       "[3, 6, 9, 12, 15, 18, 21, 24]"
      ]
     },
     "execution_count": 4,
     "metadata": {},
     "output_type": "execute_result"
    }
   ],
   "source": [
    "l1"
   ]
  },
  {
   "cell_type": "code",
   "execution_count": 5,
   "id": "9576e964-4af2-42ab-986e-62e8d5c6819f",
   "metadata": {},
   "outputs": [
    {
     "data": {
      "text/plain": [
       "[1, 2, 4, 5, 7, 8, 10, 11, 13, 14, 16, 17, 19, 20, 22, 23, 25]"
      ]
     },
     "execution_count": 5,
     "metadata": {},
     "output_type": "execute_result"
    }
   ],
   "source": [
    "l2"
   ]
  },
  {
   "cell_type": "raw",
   "id": "f6279437-1900-4b21-a859-717fbeeb0f00",
   "metadata": {},
   "source": [
    "Q6. Create a list containing 25 int type data. Using for loop and if-else condition print if the element is \n",
    "divisible by 3 or not"
   ]
  },
  {
   "cell_type": "code",
   "execution_count": 6,
   "id": "575b8cbb-c7f8-40e6-85f0-65443c353307",
   "metadata": {},
   "outputs": [],
   "source": [
    "l=[1,2,3,4]"
   ]
  },
  {
   "cell_type": "code",
   "execution_count": 7,
   "id": "208ba75d-bc54-4c14-84e8-4e64fa5512db",
   "metadata": {},
   "outputs": [],
   "source": [
    "l[0]=2"
   ]
  },
  {
   "cell_type": "code",
   "execution_count": 8,
   "id": "e18142c1-0bf4-4a17-bc0a-bb72f81f0cbc",
   "metadata": {},
   "outputs": [
    {
     "data": {
      "text/plain": [
       "[2, 2, 3, 4]"
      ]
     },
     "execution_count": 8,
     "metadata": {},
     "output_type": "execute_result"
    }
   ],
   "source": [
    "l"
   ]
  },
  {
   "cell_type": "code",
   "execution_count": 9,
   "id": "9d1bc521-c82f-4075-966e-5eba7f2c0e2b",
   "metadata": {},
   "outputs": [],
   "source": [
    "t=(1,2,3,4)"
   ]
  },
  {
   "cell_type": "code",
   "execution_count": 10,
   "id": "9a4a6368-12bd-42dd-a2f2-a6328fcfd22a",
   "metadata": {},
   "outputs": [
    {
     "ename": "TypeError",
     "evalue": "'tuple' object does not support item assignment",
     "output_type": "error",
     "traceback": [
      "\u001b[0;31m---------------------------------------------------------------------------\u001b[0m",
      "\u001b[0;31mTypeError\u001b[0m                                 Traceback (most recent call last)",
      "Cell \u001b[0;32mIn[10], line 1\u001b[0m\n\u001b[0;32m----> 1\u001b[0m \u001b[43mt\u001b[49m\u001b[43m[\u001b[49m\u001b[38;5;241;43m0\u001b[39;49m\u001b[43m]\u001b[49m\u001b[38;5;241m=\u001b[39m\u001b[38;5;241m2\u001b[39m\n",
      "\u001b[0;31mTypeError\u001b[0m: 'tuple' object does not support item assignment"
     ]
    }
   ],
   "source": [
    "t[0]=2"
   ]
  },
  {
   "cell_type": "code",
   "execution_count": null,
   "id": "f4ef146d-6ae0-4200-a25b-ab931d180d5f",
   "metadata": {},
   "outputs": [],
   "source": []
  }
 ],
 "metadata": {
  "kernelspec": {
   "display_name": "Python 3 (ipykernel)",
   "language": "python",
   "name": "python3"
  },
  "language_info": {
   "codemirror_mode": {
    "name": "ipython",
    "version": 3
   },
   "file_extension": ".py",
   "mimetype": "text/x-python",
   "name": "python",
   "nbconvert_exporter": "python",
   "pygments_lexer": "ipython3",
   "version": "3.10.8"
  }
 },
 "nbformat": 4,
 "nbformat_minor": 5
}
